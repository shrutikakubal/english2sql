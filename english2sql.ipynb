{
  "nbformat": 4,
  "nbformat_minor": 0,
  "metadata": {
    "colab": {
      "provenance": [],
      "authorship_tag": "ABX9TyMx7YcNcZ3QXgwwp+fhY70/"
    },
    "kernelspec": {
      "name": "python3",
      "display_name": "Python 3"
    },
    "language_info": {
      "name": "python"
    }
  },
  "cells": [
    {
      "cell_type": "code",
      "execution_count": null,
      "metadata": {
        "id": "jfUZ5SKdRHgn"
      },
      "outputs": [],
      "source": [
        "%pip install --quiet \"evadb[document]\"\n",
        "import evadb\n",
        "cursor = evadb.connect().cursor()"
      ]
    },
    {
      "cell_type": "code",
      "source": [
        "import warnings\n",
        "warnings.filterwarnings(\"ignore\")\n",
        "import os\n",
        "os.environ['OPENAI_KEY'] = 'sk-...'\n",
        "open_ai_key = os.environ.get('OPENAI_KEY')\n",
        "!apt install postgresql\n",
        "!service postgresql start\n",
        "!sudo -u postgres psql -c \"CREATE USER eva WITH SUPERUSER PASSWORD 'password'\"\n",
        "!sudo -u postgres psql -c \"CREATE DATABASE evadb\"\n",
        "params = {\n",
        "    \"user\": \"eva\",\n",
        "    \"password\": \"password\",\n",
        "    \"host\": \"localhost\",\n",
        "    \"port\": \"5432\",\n",
        "    \"database\": \"evadb\",\n",
        "}\n",
        "query = f\"CREATE DATABASE postgres_data WITH ENGINE = 'postgres', PARAMETERS = {params};\"\n",
        "cursor.query(query).df()"
      ],
      "metadata": {
        "id": "K4I0rYBxR9a6"
      },
      "execution_count": null,
      "outputs": []
    },
    {
      "cell_type": "code",
      "source": [
        "%pip install --quiet marvin\n",
        "import marvin\n",
        "marvin.settings.openai.api_key = 'sk-...'\n",
        "from marvin import ai_classifier\n",
        "from enum import Enum\n",
        "import re"
      ],
      "metadata": {
        "id": "SZJY9_GNxbzT"
      },
      "execution_count": 4,
      "outputs": []
    },
    {
      "cell_type": "code",
      "source": [
        "cursor.query(\"\"\"\n",
        "USE postgres_data {\n",
        "  DROP TABLE IF EXISTS employees\n",
        "}\n",
        "\"\"\").execute()\n",
        "cursor.query(\"\"\"\n",
        "USE postgres_data {\n",
        "  DROP TABLE IF EXISTS personal_data\n",
        "}\n",
        "\"\"\").execute()\n",
        "cursor.query(\"\"\"\n",
        "USE postgres_data {\n",
        "  CREATE TABLE employees (emplid CHAR(10) PRIMARY KEY, company VARCHAR(100), country CHAR(3), hire_date DATE NOT NULL, comprate FLOAT(9), department_id CHAR(10))\n",
        "}\n",
        "\"\"\").execute()\n",
        "cursor.query(\"\"\"\n",
        "USE postgres_data {\n",
        "  CREATE TABLE personal_data (emplid CHAR(10) PRIMARY KEY, dateofbirth DATE NOT NULL, placeofbirth VARCHAR(100), first_name VARCHAR(50), last_name VARCHAR(50), gender CHAR(1))\n",
        "}\n",
        "\"\"\").execute()\n",
        "cursor.query(\"\"\"\n",
        "USE postgres_data {\n",
        " INSERT INTO employees (emplid, company, country, hire_date, comprate, department_id) VALUES ('001', 'Hogwarts INC', 'USA', '2022-01-01', 1000.00, 'HR'),\n",
        "  ('002', 'Ministry of Magic', 'UK', '2022-02-15', 1500.00, 'IT'), ('003', 'Hogsmeade', 'CAN', '2023-03-10', 1200.00, 'Sales')\n",
        "}\"\"\").execute()\n",
        "cursor.query(\"\"\"\n",
        "USE postgres_data {\n",
        " INSERT INTO personal_data (emplid, dateofbirth, placeofbirth, first_name, last_name, gender) VALUES ('001', '2000-07-15', 'UK', 'Harry', 'Potter', 'M'),\n",
        "  ('002', '1990-12-20', 'CAN', 'Ron', 'Weasley', 'M'), ('003', '1995-03-19','UK', 'Hermione', 'Granger', 'F')\n",
        "}\"\"\").execute()"
      ],
      "metadata": {
        "id": "B0GlPTtHfN1K"
      },
      "execution_count": null,
      "outputs": []
    },
    {
      "cell_type": "code",
      "source": [
        "def InitializeSummary():\n",
        "  cursor.query(\"\"\"USE postgres_data {DROP TABLE IF EXISTS Summary}\"\"\").df()\n",
        "  cursor.query(\"\"\"USE postgres_data{CREATE TABLE Summary (table_name VARCHAR(60), table_schema VARCHAR(500))}\"\"\").execute()\n",
        "  tables = cursor.query(\"\"\"\n",
        "  USE postgres_data {select table_name from information_schema.TABLES where table_schema='public' and table_name<>'summary'}\"\"\").df()\n",
        "  for i in range(len(tables)):\n",
        "    table_name=tables.iloc[i,0]\n",
        "    actual_query = f\"select column_name, data_type, character_maximum_length, column_default, is_nullable, is_identity from INFORMATION_SCHEMA.COLUMNS where table_name ='{table_name}' order by ordinal_position\"\n",
        "    query_text = \"USE postgres_data{\"+actual_query+\"}\"\n",
        "    table_data = cursor.query(query_text).df()\n",
        "    cursor.query(query_text).df()\n",
        "    csv_list = table_data.to_csv(index=False, header=False, sep=',').strip()\n",
        "    insert_text = f\"INSERT into Summary (table_name, table_schema) values ('{table_name}','{table_name}: {csv_list}')\"\n",
        "    query_text = \"USE postgres_data{\"+insert_text+\"}\"\n",
        "    cursor.query(query_text).df()\n"
      ],
      "metadata": {
        "id": "FaK-YDKGkbRc"
      },
      "execution_count": null,
      "outputs": []
    },
    {
      "cell_type": "code",
      "source": [
        "InitializeSummary()\n",
        "cursor.query(\"\"\"USE postgres_data{select * from Summary}\"\"\").df()"
      ],
      "metadata": {
        "id": "M5q4aQxFvbRe"
      },
      "execution_count": null,
      "outputs": []
    },
    {
      "cell_type": "code",
      "source": [
        "def SelectQuestion(question: str):\n",
        "  print(\"===========================================\")\n",
        "  ans = str(input(\"🪄 Would you like the results from a specific table? (y/n): \"))\n",
        "  flag=False\n",
        "  table_condition=\" \"\n",
        "  if(ans.lower()==\"y\"):\n",
        "    table_name = str(input(\"Table name: \"))\n",
        "    actual_query = f\"select 'x' from INFORMATION_SCHEMA.TABLES where table_name = '{table_name}'\"\n",
        "    query_text = \"USE postgres_data{\"+actual_query+\"}\"\n",
        "    if cursor.query(query_text).df().empty:\n",
        "      print(\"That table doesn't exist in this database :( but I'll try to find something for you\")\n",
        "      flag=False\n",
        "    else:\n",
        "      flag=True\n",
        "  print(\"===========================================\")\n",
        "  print(\"🪄 Finding the answer...\")\n",
        "  if(flag):\n",
        "    prompt = f\"You are given the schema of the table {table_name} in the context in the order (table_name: column_name,data_type,character_maximum_length,column_default,is_nullable, is_identity). Use that to generate an sql statement which answers the question\"\n",
        "    table_condition=f\"\"\" where table_name='{table_name}'\"\"\"\n",
        "  else:\n",
        "    prompt = \" You are an expert classifier. In the context, you are given the list of tables with their schemas in the form (table_name: column_name,data_type,character_maximum_length,column_default,is_nullable, is_identity). Use this list to find out which table or combination of tables will most likely contain the data requested by the user and provide the SQL statement to fetch the data.\"\n",
        "  prompt=prompt+f\" Format the SQL statement as ```sql<statement here>```.\"\n",
        "  chatgpt_udf = f\"\"\"select ChatGPT('{question}',table_schema,'{prompt}') from postgres_data.summary\"\"\"+table_condition\n",
        "  response=cursor.query(chatgpt_udf).df().to_string(index=False, header=False)\n",
        "  ExecuteResponse(response)"
      ],
      "metadata": {
        "id": "zwZ-_W1oY08Z"
      },
      "execution_count": 8,
      "outputs": []
    },
    {
      "cell_type": "code",
      "source": [
        "def InsertQuestion(question: str):\n",
        "  print(\"===========================================\")\n",
        "  ans = str(input(\"🪄 Would you like to insert into a specific table? (y/n): \"))\n",
        "  flag=False\n",
        "  table_condition=\" \"\n",
        "  if(ans.lower()==\"y\"):\n",
        "    table_name = str(input(\"Table name: \"))\n",
        "    actual_query = f\"select 'x' from INFORMATION_SCHEMA.TABLES where table_name = '{table_name}'\"\n",
        "    query_text = \"USE postgres_data{\"+actual_query+\"}\"\n",
        "    if cursor.query(query_text).df().empty:\n",
        "      print(\"That table doesn't exist in this database :( but I'll try to find something for you\")\n",
        "      flag=False\n",
        "    else:\n",
        "      flag=True\n",
        "  print(\"===========================================\")\n",
        "  print(\"🪄 Generating...\")\n",
        "  if(flag):\n",
        "    prompt = f\"The user will provide text that you need to parse into SQL INSERT statements for the table {table_name}. You are given the schema of the table in the context in the order (table_name: column_name,data_type,character_maximum_length,column_default,is_nullable, is_identity). Use the schema to extract, deduce, or infer any parameters and provide the SQL insert statements for the table accordingly.\"\n",
        "    table_condition= f\"\"\" where table_name='{table_name}'\"\"\"\n",
        "  else:\n",
        "    prompt = \"The user will provide text that you need to parse into SQL INSERT statements. In the context, you are given the list of tables with their schemas in the form (table_name: column_name,data_type,character_maximum_length,column_default,is_nullable, is_identity). Use the provided text and context to extract, deduce, or infer any parameters and provide all the relevant tables to insert the data.\"\n",
        "  prompt=prompt+f\" Format the SQL statement as ```sql<statement here>```.\"\n",
        "  chatgpt_udf = f\"\"\"select ChatGPT('{question}',table_schema,'{prompt}') from postgres_data.summary\"\"\"+table_condition\n",
        "  response=cursor.query(chatgpt_udf).df().to_string(index=False, header=False)\n",
        "  print(response.replace(\"\\\\n\",\" \"))"
      ],
      "metadata": {
        "id": "iLOSh_npkHYJ"
      },
      "execution_count": 9,
      "outputs": []
    },
    {
      "cell_type": "code",
      "source": [
        "def UpdateQuestion(question: str):\n",
        "  print(\"===========================================\")\n",
        "  ans = str(input(\"🪄 Would you like to update a specific table? (y/n): \"))\n",
        "  flag=False\n",
        "  if(ans.lower()==\"y\"):\n",
        "    table_name = str(input(\"Table name: \"))\n",
        "    actual_query = f\"select 'x' from INFORMATION_SCHEMA.TABLES where table_name = '{table_name}'\"\n",
        "    query_text = \"USE postgres_data{\"+actual_query+\"}\"\n",
        "    if cursor.query(query_text).df().empty:\n",
        "      print(\"That table doesn't exist in this database :( but I'll try to find something for you\")\n",
        "      flag=False\n",
        "    else:\n",
        "      flag=True\n",
        "  if(flag):\n",
        "    prompt = f\"The user will provide some data to be changed in the table '{table_name}'. You are given the schema of the table in the context in the order (table_name: column_name,data_type,character_maximum_length,column_default,is_nullable, is_identity). Use the schema to extract, deduce, or infer any parameters and provide the SQL update statements for the table accordingly. If the user provides some condition, add it to the SQL statement.\"\n",
        "    chatgpt_udf = f\"\"\"select ChatGPT('{question}',table_schema,'{prompt}') from postgres_data.summary where table_name='{table_name}'\"\"\"\n",
        "  else:\n",
        "    prompt = \"The user will provide text that you need to parse into SQL UPDATE statements. In the context, you are given the list of tables with their schemas in the form (table_name: column_name,data_type,character_maximum_length,column_default,is_nullable, is_identity). Use the provided text and context to extract, deduce, or infer any parameters and provide all the relevant tables to be updated.\"\n",
        "    chatgpt_udf = f\"\"\"select ChatGPT('{question}',table_schema,'{prompt}') from postgres_data.summary\"\"\"\n",
        "  print(cursor.query(chatgpt_udf).df().to_string(index=False, header=False, max_rows=1))"
      ],
      "metadata": {
        "id": "9Gog2cbk2pjs"
      },
      "execution_count": 10,
      "outputs": []
    },
    {
      "cell_type": "code",
      "source": [
        "def OriginalQuestion(dummy: str):\n",
        "  print(\"===========================================\")\n",
        "  print(\"🪄 Would you like to ask another question?\")\n",
        "  ans = str(input(\"y/n: \"))\n",
        "  if(ans.lower()==\"y\"):\n",
        "   print(\"🪄 What would you like to know?\")\n",
        "   question = str(input(\"Question: \"))\n",
        "  else:\n",
        "    return \"exit\"\n",
        "  return question"
      ],
      "metadata": {
        "id": "BIn3fMyDcG_m"
      },
      "execution_count": 11,
      "outputs": []
    },
    {
      "cell_type": "code",
      "source": [
        "def ExecuteResponse(response: str):\n",
        "  response =response.replace(\"\\\\n\",\" \")\n",
        "  print(response)\n",
        "  print(\"===========================================\")\n",
        "  print(\"🪄 Would you like me to execute the query?\")\n",
        "  ans = str(input(\"y/n: \"))\n",
        "  if(ans.lower()==\"y\"):\n",
        "    response = response.replace(';','')\n",
        "    actual_query=re.search(r'```sql(.*?)```',response).group()\n",
        "    query_text = 'USE postgres_data{'+actual_query[7:len(actual_query)-4]+'}'\n",
        "    display(cursor.query(query_text).df())"
      ],
      "metadata": {
        "id": "HYhmFiSG6xjX"
      },
      "execution_count": 12,
      "outputs": []
    },
    {
      "cell_type": "code",
      "source": [
        "@ai_classifier\n",
        "class InstructionRouter(Enum):\n",
        "  \"\"\"Represents distinct functions called based on the instruction\"\"\"\n",
        "  INSERT = dict(tool=InsertQuestion, description=\"When the user wants to add new data to a table or when user wants you to generate data for a table\")\n",
        "  SELECT = dict(tool=SelectQuestion, description=\"When the user wants some information about the stored data\")\n",
        "  UPDATE = dict(tool=UpdateQuestion, description=\"When the user wants to update existing data\")\n",
        "  QUESTION = dict(tool=OriginalQuestion, description=\"When the user wants wants more information or wants to ask a different question\")"
      ],
      "metadata": {
        "id": "s04_5yJ4uKsZ"
      },
      "execution_count": 13,
      "outputs": []
    },
    {
      "cell_type": "code",
      "source": [
        "#user interface\n",
        "flag = True\n",
        "\n",
        "print(\"===========================================\")\n",
        "print(\"🪄 What would you like to know?\")\n",
        "question = str(input())\n",
        "while(flag):\n",
        "  result= InstructionRouter(question)\n",
        "  operation = result.value['tool'](question)\n",
        "  question = OriginalQuestion(question)\n",
        "  if question==\"exit\":\n",
        "    flag = False\n",
        "print(\"===========================================\")\n",
        "print(\"✅Hope I was of some help!\")"
      ],
      "metadata": {
        "id": "Y2lA4N-5mNo9"
      },
      "execution_count": null,
      "outputs": []
    }
  ]
}